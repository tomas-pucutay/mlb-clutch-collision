{
 "cells": [
  {
   "cell_type": "markdown",
   "metadata": {},
   "source": [
    "### 5th Process:"
   ]
  },
  {
   "cell_type": "markdown",
   "metadata": {},
   "source": [
    "- Merge all the stats from batters and pitchers to play data\n",
    "- To predict the event in a match"
   ]
  },
  {
   "cell_type": "markdown",
   "metadata": {},
   "source": [
    "### Import"
   ]
  },
  {
   "cell_type": "code",
   "execution_count": 2,
   "metadata": {},
   "outputs": [],
   "source": [
    "import pandas as pd"
   ]
  },
  {
   "cell_type": "code",
   "execution_count": 3,
   "metadata": {},
   "outputs": [],
   "source": [
    "pd.set_option('display.max_colwidth', 200)\n",
    "pd.set_option('display.max_columns', None)"
   ]
  },
  {
   "cell_type": "code",
   "execution_count": 4,
   "metadata": {},
   "outputs": [],
   "source": [
    "all_player_stats = pd.read_csv('all_player_stats.csv')\n",
    "top_players_plays = pd.read_csv('mlb_top_players_plays.csv')\n",
    "top_players_id =pd.read_csv('mlb_top_players_id.csv')"
   ]
  },
  {
   "cell_type": "code",
   "execution_count": 10,
   "metadata": {},
   "outputs": [],
   "source": [
    "valid_ids = set(all_player_stats['player_id'])\n",
    "\n",
    "top_players_plays = (\n",
    "    top_players_plays[\n",
    "        (top_players_plays['batter_id'].isin(valid_ids)) &\n",
    "        (top_players_plays['pitcher_id'].isin(valid_ids))\n",
    "        ]\n",
    "    )"
   ]
  },
  {
   "cell_type": "code",
   "execution_count": 11,
   "metadata": {},
   "outputs": [],
   "source": [
    "batter_stats = all_player_stats.copy().add_prefix(\"b_\")\n",
    "pitcher_stats = all_player_stats.copy().add_prefix(\"p_\")\n",
    "batter_stats = batter_stats.rename(columns={'b_player_id': 'batter_id', 'b_season': 'season'})\n",
    "pitcher_stats = pitcher_stats.rename(columns={'p_player_id': 'pitcher_id', 'p_season': 'season'})"
   ]
  },
  {
   "cell_type": "code",
   "execution_count": 12,
   "metadata": {},
   "outputs": [],
   "source": [
    "merged_data = (\n",
    "    top_players_plays\n",
    "    .filter([\n",
    "        'season', 'batter_id', 'pitcher_id',\n",
    "        'event_type', 'vs_RHB', 'vs_LHB',\n",
    "        'vs_SHB', 'vs_RHP', 'vs_LHP'\n",
    "    ])\n",
    "    .merge(batter_stats, on=['season', 'batter_id'], how='left')\n",
    "    .merge(pitcher_stats, on=['season', 'pitcher_id'], how='left')\n",
    ")"
   ]
  },
  {
   "cell_type": "code",
   "execution_count": 21,
   "metadata": {},
   "outputs": [],
   "source": [
    "null_percentage = merged_data.isnull().mean() * 100\n",
    "merged_data = merged_data.loc[:, null_percentage <= 65]"
   ]
  },
  {
   "cell_type": "code",
   "execution_count": 24,
   "metadata": {},
   "outputs": [],
   "source": [
    "merged_data = merged_data.drop(columns=['batter_id', 'pitcher_id', 'season'])"
   ]
  },
  {
   "cell_type": "code",
   "execution_count": 25,
   "metadata": {},
   "outputs": [],
   "source": [
    "merged_data.to_csv('all_plays_merged_data.csv', index=False)"
   ]
  }
 ],
 "metadata": {
  "kernelspec": {
   "display_name": ".venv",
   "language": "python",
   "name": "python3"
  },
  "language_info": {
   "codemirror_mode": {
    "name": "ipython",
    "version": 3
   },
   "file_extension": ".py",
   "mimetype": "text/x-python",
   "name": "python",
   "nbconvert_exporter": "python",
   "pygments_lexer": "ipython3",
   "version": "3.12.3"
  }
 },
 "nbformat": 4,
 "nbformat_minor": 2
}

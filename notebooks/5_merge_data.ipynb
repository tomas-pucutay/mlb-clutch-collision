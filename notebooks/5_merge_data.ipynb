{
 "cells": [
  {
   "cell_type": "markdown",
   "metadata": {},
   "source": [
    "### 5th Process:"
   ]
  },
  {
   "cell_type": "markdown",
   "metadata": {},
   "source": [
    "- Merge all the stats from batters and pitchers to play data\n",
    "- To predict the event in a match"
   ]
  },
  {
   "cell_type": "markdown",
   "metadata": {},
   "source": [
    "### Import"
   ]
  },
  {
   "cell_type": "code",
   "execution_count": 1,
   "metadata": {},
   "outputs": [],
   "source": [
    "import pandas as pd"
   ]
  },
  {
   "cell_type": "code",
   "execution_count": 2,
   "metadata": {},
   "outputs": [],
   "source": [
    "pd.set_option('display.max_colwidth', 200)\n",
    "pd.set_option('display.max_columns', None)"
   ]
  },
  {
   "cell_type": "code",
   "execution_count": 3,
   "metadata": {},
   "outputs": [],
   "source": [
    "all_player_stats = pd.read_csv('all_player_stats.csv')\n",
    "top_players_plays = pd.read_csv('mlb_top_players_plays.csv')\n",
    "top_players_id =pd.read_csv('mlb_top_players_id.csv')"
   ]
  },
  {
   "cell_type": "code",
   "execution_count": 4,
   "metadata": {},
   "outputs": [],
   "source": [
    "valid_ids = set(all_player_stats['player_id'])\n",
    "\n",
    "top_players_plays = (\n",
    "    top_players_plays[\n",
    "        (top_players_plays['batter_id'].isin(valid_ids)) &\n",
    "        (top_players_plays['pitcher_id'].isin(valid_ids))\n",
    "        ]\n",
    "    )"
   ]
  },
  {
   "cell_type": "code",
   "execution_count": 5,
   "metadata": {},
   "outputs": [],
   "source": [
    "batter_stats = all_player_stats.copy().add_prefix(\"b_\")\n",
    "pitcher_stats = all_player_stats.copy().add_prefix(\"p_\")\n",
    "batter_stats = batter_stats.rename(columns={'b_player_id': 'batter_id', 'b_season': 'season'})\n",
    "pitcher_stats = pitcher_stats.rename(columns={'p_player_id': 'pitcher_id', 'p_season': 'season'})"
   ]
  },
  {
   "cell_type": "code",
   "execution_count": 6,
   "metadata": {},
   "outputs": [],
   "source": [
    "merged_data = (\n",
    "    top_players_plays\n",
    "    .filter([\n",
    "        'season', 'batter_id', 'pitcher_id',\n",
    "        'event_type', 'vs_RHB', 'vs_LHB',\n",
    "        'vs_SHB', 'vs_RHP', 'vs_LHP'\n",
    "    ])\n",
    "    .merge(batter_stats, on=['season', 'batter_id'], how='left')\n",
    "    .merge(pitcher_stats, on=['season', 'pitcher_id'], how='left')\n",
    ")"
   ]
  },
  {
   "cell_type": "code",
   "execution_count": 7,
   "metadata": {},
   "outputs": [],
   "source": [
    "null_percentage = merged_data.isnull().mean() * 100\n",
    "merged_data_2 = merged_data.loc[:, null_percentage <= 65]"
   ]
  },
  {
   "cell_type": "code",
   "execution_count": 8,
   "metadata": {},
   "outputs": [
    {
     "data": {
      "text/plain": [
       "['season',\n",
       " 'batter_id',\n",
       " 'pitcher_id',\n",
       " 'event_type',\n",
       " 'vs_RHB',\n",
       " 'vs_LHB',\n",
       " 'vs_SHB',\n",
       " 'vs_RHP',\n",
       " 'vs_LHP',\n",
       " 'b_airOuts',\n",
       " 'b_atBats',\n",
       " 'b_baseOnBalls',\n",
       " 'b_catchersInterference',\n",
       " 'b_caughtStealing',\n",
       " 'b_doubles',\n",
       " 'b_gamesPlayed',\n",
       " 'b_groundIntoDoublePlay',\n",
       " 'b_groundOuts',\n",
       " 'b_hitByPitch',\n",
       " 'b_hits',\n",
       " 'b_homeRuns',\n",
       " 'b_intentionalWalks',\n",
       " 'b_leftOnBase',\n",
       " 'b_numberOfPitches',\n",
       " 'b_plateAppearances',\n",
       " 'b_rbi',\n",
       " 'b_runs',\n",
       " 'b_sacBunts',\n",
       " 'b_sacFlies',\n",
       " 'b_stolenBases',\n",
       " 'b_strikeOuts',\n",
       " 'b_totalBases',\n",
       " 'b_triples',\n",
       " 'b_singles',\n",
       " 'b_atBatsPerHomeRun',\n",
       " 'b_avg',\n",
       " 'b_babip',\n",
       " 'b_groundOutsToAirouts',\n",
       " 'b_obp',\n",
       " 'b_slg',\n",
       " 'b_stolenBasePercentage',\n",
       " 'b_strikeoutWalkRatio',\n",
       " 'b_ops',\n",
       " 'p_airOuts',\n",
       " 'p_atBats',\n",
       " 'p_balks',\n",
       " 'p_baseOnBalls',\n",
       " 'p_battersFaced',\n",
       " 'p_blownSaves',\n",
       " 'p_catchersInterference',\n",
       " 'p_caughtStealing',\n",
       " 'p_completeGames',\n",
       " 'p_doubles',\n",
       " 'p_earnedRuns',\n",
       " 'p_gamesFinished',\n",
       " 'p_gamesPitched',\n",
       " 'p_gamesPlayed',\n",
       " 'p_gamesStarted',\n",
       " 'p_groundIntoDoublePlay',\n",
       " 'p_groundOuts',\n",
       " 'p_hitBatsmen',\n",
       " 'p_hitByPitch',\n",
       " 'p_hits',\n",
       " 'p_holds',\n",
       " 'p_homeRuns',\n",
       " 'p_inheritedRunners',\n",
       " 'p_inheritedRunnersScored',\n",
       " 'p_inningsPitched',\n",
       " 'p_intentionalWalks',\n",
       " 'p_losses',\n",
       " 'p_numberOfPitches',\n",
       " 'p_outs',\n",
       " 'p_pickoffs',\n",
       " 'p_runs',\n",
       " 'p_sacBunts',\n",
       " 'p_sacFlies',\n",
       " 'p_saveOpportunities',\n",
       " 'p_saves',\n",
       " 'p_shutouts',\n",
       " 'p_stolenBases',\n",
       " 'p_strikeOuts',\n",
       " 'p_strikes',\n",
       " 'p_totalBases',\n",
       " 'p_triples',\n",
       " 'p_wildPitches',\n",
       " 'p_wins',\n",
       " 'p_singles',\n",
       " 'p_atBatsPerHomeRun',\n",
       " 'p_avg',\n",
       " 'p_babip',\n",
       " 'p_era',\n",
       " 'p_groundOutsToAirouts',\n",
       " 'p_hitsPer9Inn',\n",
       " 'p_homeRunsPer9',\n",
       " 'p_obp',\n",
       " 'p_pitchesPerInning',\n",
       " 'p_runsScoredPer9',\n",
       " 'p_slg',\n",
       " 'p_stolenBasePercentage',\n",
       " 'p_strikePercentage',\n",
       " 'p_strikeoutWalkRatio',\n",
       " 'p_strikeoutsPer9Inn',\n",
       " 'p_walksPer9Inn',\n",
       " 'p_whip',\n",
       " 'p_winPercentage',\n",
       " 'p_ops']"
      ]
     },
     "execution_count": 8,
     "metadata": {},
     "output_type": "execute_result"
    }
   ],
   "source": [
    "merged_data_2.columns.tolist()"
   ]
  },
  {
   "cell_type": "code",
   "execution_count": 24,
   "metadata": {},
   "outputs": [],
   "source": [
    "merged_data = merged_data.drop(columns=['batter_id', 'pitcher_id', 'season'])"
   ]
  },
  {
   "cell_type": "code",
   "execution_count": 25,
   "metadata": {},
   "outputs": [],
   "source": [
    "merged_data.to_csv('all_plays_merged_data.csv', index=False)"
   ]
  }
 ],
 "metadata": {
  "kernelspec": {
   "display_name": ".venv",
   "language": "python",
   "name": "python3"
  },
  "language_info": {
   "codemirror_mode": {
    "name": "ipython",
    "version": 3
   },
   "file_extension": ".py",
   "mimetype": "text/x-python",
   "name": "python",
   "nbconvert_exporter": "python",
   "pygments_lexer": "ipython3",
   "version": "3.10.12"
  }
 },
 "nbformat": 4,
 "nbformat_minor": 2
}

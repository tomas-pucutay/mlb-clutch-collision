{
 "cells": [
  {
   "cell_type": "markdown",
   "metadata": {},
   "source": [
    "### 3rd Process:"
   ]
  },
  {
   "cell_type": "markdown",
   "metadata": {},
   "source": [
    "- From the 80 top players ID's, retrieve all the seasons and teams they participate with API stats=yearByYear\n",
    "- From API Schedule, get all the games and filter but the teams of the top players to narrow the search field\n",
    "- Get each play from games, and filter only the games where the top players appears as batters or pitchers."
   ]
  },
  {
   "cell_type": "markdown",
   "metadata": {},
   "source": [
    "### Imports"
   ]
  },
  {
   "cell_type": "code",
   "execution_count": 1,
   "metadata": {},
   "outputs": [],
   "source": [
    "import json\n",
    "import requests\n",
    "import pandas as pd\n",
    "from concurrent.futures import ThreadPoolExecutor, as_completed\n",
    "from tqdm import tqdm"
   ]
  },
  {
   "cell_type": "code",
   "execution_count": 3,
   "metadata": {},
   "outputs": [],
   "source": [
    "pd.set_option('display.max_colwidth', 200)\n",
    "pd.set_option('display.max_columns', None)"
   ]
  },
  {
   "cell_type": "markdown",
   "metadata": {},
   "source": [
    "### Utils"
   ]
  },
  {
   "cell_type": "code",
   "execution_count": 4,
   "metadata": {},
   "outputs": [],
   "source": [
    "\n",
    "\n",
    "# Function to Process Results from Various MLB Stats API Endpoints\n",
    "# Provided by the Google Colab from MLB Hackaton\n",
    "\n",
    "def process_endpoint_url(endpoint_url, pop_key=None):\n",
    "  \"\"\"\n",
    "  Fetches data from a URL, parses JSON, and optionally pops a key.\n",
    "\n",
    "  Args:\n",
    "    endpoint_url: The URL to fetch data from.\n",
    "    pop_key: The key to pop from the JSON data (optional, defaults to None).\n",
    "\n",
    "  Returns:\n",
    "    A pandas DataFrame containing the processed data\n",
    "  \"\"\"\n",
    "  json_result = requests.get(endpoint_url).content\n",
    "\n",
    "  data = json.loads(json_result)\n",
    "\n",
    "   # if pop_key is provided, pop key and normalize nested fields\n",
    "  if pop_key:\n",
    "    df_result = pd.json_normalize(data.pop(pop_key), sep = '_')\n",
    "  # if pop_key is not provided, normalize entire json\n",
    "  else:\n",
    "    df_result = pd.json_normalize(data)\n",
    "\n",
    "  return df_result"
   ]
  },
  {
   "cell_type": "markdown",
   "metadata": {},
   "source": [
    "### Get Season and Teams for Top players"
   ]
  },
  {
   "cell_type": "code",
   "execution_count": 20,
   "metadata": {},
   "outputs": [],
   "source": [
    "top_players_id = pd.read_csv('mlb_top_players_id.csv')\n",
    "players_id = top_players_id['player_id'].tolist()"
   ]
  },
  {
   "cell_type": "code",
   "execution_count": 41,
   "metadata": {},
   "outputs": [],
   "source": [
    "def fetch_player_season_team(player_id):\n",
    "    player_url = f'https://statsapi.mlb.com/api/v1/people/{player_id}/stats?stats=yearByYear'\n",
    "    player_data = process_endpoint_url(player_url, \"stats\")\n",
    "\n",
    "    if not player_data.empty:\n",
    "        player_data = player_data.loc[0, 'splits']\n",
    "        player_data_df = (\n",
    "            pd.DataFrame(player_data)\n",
    "            .drop_duplicates(subset=['season'], keep='first')\n",
    "            .assign(\n",
    "                player_id = player_id,\n",
    "                team_id = lambda x: x['team'].apply(lambda y: y['id'] if isinstance(y, dict) and 'id' in y else None)\n",
    "            )\n",
    "            .filter(['player_id', 'team_id', 'season'])\n",
    "        )\n",
    "        return player_data_df\n",
    "    return pd.DataFrame()\n",
    "\n",
    "with ThreadPoolExecutor() as executor:\n",
    "    season_team_results = executor.map(fetch_player_season_team, players_id)\n",
    "\n",
    "top_players_season_team = pd.concat(season_team_results, ignore_index=True)"
   ]
  },
  {
   "cell_type": "code",
   "execution_count": 42,
   "metadata": {},
   "outputs": [],
   "source": [
    "top_players_season_team = (\n",
    "    top_players_season_team\n",
    "    .merge(\n",
    "        top_players_id,\n",
    "        on='player_id'\n",
    "    )\n",
    "    .filter([\n",
    "        'season', 'player_id', 'fullName',\n",
    "        'team_id', 'top_idx', 'top_source'\n",
    "    ])\n",
    "    .astype({'season': 'Int32'})\n",
    ")"
   ]
  },
  {
   "cell_type": "code",
   "execution_count": null,
   "metadata": {},
   "outputs": [],
   "source": [
    "top_players_season_team.to_csv('mlb_top_players_season_team.csv', index=False)"
   ]
  },
  {
   "cell_type": "markdown",
   "metadata": {},
   "source": [
    "### Obtener gamePks posibles en season y con el team_id en away o home"
   ]
  },
  {
   "cell_type": "code",
   "execution_count": 45,
   "metadata": {},
   "outputs": [],
   "source": [
    "top_players_season_team = pd.read_csv('mlb_top_players_season_team.csv')"
   ]
  },
  {
   "cell_type": "code",
   "execution_count": 46,
   "metadata": {},
   "outputs": [],
   "source": [
    "season_team_id = (\n",
    "    top_players_season_team\n",
    "    .drop_duplicates(['season', 'team_id'])\n",
    "    .groupby('season')['team_id']\n",
    "    .apply(list)\n",
    "    .reset_index()\n",
    "    .sort_values(by=['season'])\n",
    ")"
   ]
  },
  {
   "cell_type": "code",
   "execution_count": 49,
   "metadata": {},
   "outputs": [],
   "source": [
    "def fetch_games(season_team_serie: pd.Series) -> pd.DataFrame:\n",
    "\n",
    "    season = season_team_serie[1]['season']\n",
    "    team_id = season_team_serie[1]['team_id']\n",
    "\n",
    "    schedule_endpoint_url = f'https://statsapi.mlb.com/api/v1/schedule?sportId=1&season={season}'\n",
    "    schedule_dates = process_endpoint_url(schedule_endpoint_url, \"dates\")\n",
    "\n",
    "    if not schedule_dates.empty:\n",
    "        games = (\n",
    "            pd.json_normalize(\n",
    "                schedule_dates\n",
    "                .explode('games')\n",
    "                .reset_index(drop=True)\n",
    "                .loc[:,'games']\n",
    "            )\n",
    "            .pipe(\n",
    "                lambda df: df[df['gameType'] == 'R']\n",
    "            )\n",
    "            .pipe(lambda df: df[\n",
    "                df['teams.away.team.id'].isin(team_id) |\n",
    "                df['teams.home.team.id'].isin(team_id)\n",
    "            ])\n",
    "            .filter([\n",
    "                'gamePk', 'gameGuid', 'season',\n",
    "                'teams.away.team.id', 'teams.home.team.id'\n",
    "            ])\n",
    "        )\n",
    "        return games\n",
    "    return pd.DataFrame()\n",
    "\n",
    "with ThreadPoolExecutor() as executor:\n",
    "    games_results = executor.map(fetch_games, season_team_id.iterrows())\n",
    "\n",
    "top_players_games = pd.concat(games_results, ignore_index=True)\n",
    "top_players_games['season'] = top_players_games['season'].astype('Int32')"
   ]
  },
  {
   "cell_type": "code",
   "execution_count": null,
   "metadata": {},
   "outputs": [],
   "source": [
    "top_players_games.to_csv('mlb_top_players_games.csv', index=False)"
   ]
  },
  {
   "cell_type": "markdown",
   "metadata": {},
   "source": [
    "### Get plays with participation of top players"
   ]
  },
  {
   "cell_type": "code",
   "execution_count": 55,
   "metadata": {},
   "outputs": [],
   "source": [
    "top_players_season_team = pd.read_csv('mlb_top_players_season_team.csv')\n",
    "top_players_games = pd.read_csv('mlb_top_players_games.csv')"
   ]
  },
  {
   "cell_type": "code",
   "execution_count": 64,
   "metadata": {},
   "outputs": [],
   "source": [
    "batting_season_team = (\n",
    "    top_players_season_team\n",
    "    .loc[top_players_season_team['top_source'].isin(['b2024', 'bhist']), ['season', 'player_id']]\n",
    "    .drop_duplicates()\n",
    ")\n",
    "\n",
    "pitching_season_team = (\n",
    "    top_players_season_team\n",
    "    .loc[top_players_season_team['top_source'].isin(['p2024', 'phist']), ['season', 'player_id']]\n",
    "    .drop_duplicates()\n",
    ")\n",
    "\n",
    "games_seasons = top_players_games['season'].unique().tolist()"
   ]
  },
  {
   "cell_type": "code",
   "execution_count": 68,
   "metadata": {},
   "outputs": [
    {
     "name": "stderr",
     "output_type": "stream",
     "text": [
      "Processing Season 1950: 100%|██████████| 154/154 [00:04<00:00, 34.85it/s]\n",
      "Processing Season 1951: 100%|██████████| 154/154 [00:04<00:00, 36.38it/s]\n",
      "Processing Season 1952: 100%|██████████| 154/154 [00:04<00:00, 36.87it/s]\n",
      "Processing Season 1953: 100%|██████████| 153/153 [00:04<00:00, 37.37it/s]\n",
      "Processing Season 1954: 100%|██████████| 156/156 [00:04<00:00, 36.39it/s]\n",
      "Processing Season 1955: 100%|██████████| 154/154 [00:04<00:00, 36.40it/s]\n",
      "Processing Season 1956: 100%|██████████| 155/155 [00:04<00:00, 36.98it/s]\n",
      "Processing Season 1957: 100%|██████████| 154/154 [00:04<00:00, 38.29it/s]\n",
      "Processing Season 1958: 100%|██████████| 155/155 [00:05<00:00, 27.79it/s]\n",
      "Processing Season 1959: 100%|██████████| 154/154 [00:04<00:00, 36.43it/s]\n",
      "Processing Season 1960: 100%|██████████| 154/154 [00:04<00:00, 37.38it/s]\n",
      "Processing Season 1982: 100%|██████████| 162/162 [00:04<00:00, 37.39it/s]\n",
      "Processing Season 1983: 100%|██████████| 163/163 [00:10<00:00, 15.51it/s]\n",
      "Processing Season 1984: 100%|██████████| 162/162 [00:13<00:00, 11.65it/s]\n",
      "Processing Season 1985: 100%|██████████| 163/163 [00:12<00:00, 13.41it/s]\n",
      "Processing Season 1986: 100%|██████████| 162/162 [00:11<00:00, 13.94it/s]\n",
      "Processing Season 1987: 100%|██████████| 162/162 [00:17<00:00,  9.07it/s]\n",
      "Processing Season 1988: 100%|██████████| 161/161 [00:27<00:00,  5.94it/s]\n",
      "Processing Season 1989: 100%|██████████| 162/162 [00:17<00:00,  9.09it/s]\n",
      "Processing Season 1990: 100%|██████████| 162/162 [00:15<00:00, 10.34it/s]\n",
      "Processing Season 1991: 100%|██████████| 162/162 [00:11<00:00, 14.12it/s]\n",
      "Processing Season 1992: 100%|██████████| 162/162 [00:23<00:00,  6.90it/s]\n",
      "Processing Season 1993: 100%|██████████| 162/162 [00:29<00:00,  5.55it/s]\n",
      "Processing Season 1994: 100%|██████████| 117/117 [00:23<00:00,  4.91it/s]\n",
      "Processing Season 1995: 100%|██████████| 289/289 [00:52<00:00,  5.52it/s]\n",
      "Processing Season 1996: 100%|██████████| 325/325 [00:57<00:00,  5.61it/s]\n",
      "Processing Season 1997: 100%|██████████| 324/324 [00:50<00:00,  6.38it/s]\n",
      "Processing Season 1998: 100%|██████████| 324/324 [00:24<00:00, 13.43it/s]\n",
      "Processing Season 1999: 100%|██████████| 325/325 [00:46<00:00,  6.98it/s]\n",
      "Processing Season 2000: 100%|██████████| 328/328 [00:55<00:00,  5.86it/s]\n",
      "Processing Season 2001: 100%|██████████| 340/340 [00:20<00:00, 16.36it/s]\n",
      "Processing Season 2002: 100%|██████████| 163/163 [00:10<00:00, 15.63it/s]\n",
      "Processing Season 2003: 100%|██████████| 169/169 [00:14<00:00, 11.44it/s]\n",
      "Processing Season 2004: 100%|██████████| 168/168 [00:08<00:00, 19.47it/s]\n",
      "Processing Season 2005: 100%|██████████| 163/163 [00:14<00:00, 11.33it/s]\n",
      "Processing Season 2006: 100%|██████████| 167/167 [00:14<00:00, 11.37it/s]\n",
      "Processing Season 2007: 100%|██████████| 167/167 [00:08<00:00, 20.22it/s]\n",
      "Processing Season 2008: 100%|██████████| 168/168 [00:22<00:00,  7.35it/s]\n",
      "Processing Season 2009: 100%|██████████| 165/165 [00:16<00:00, 10.31it/s]\n",
      "Processing Season 2010: 100%|██████████| 324/324 [00:43<00:00,  7.43it/s]\n",
      "Processing Season 2011: 100%|██████████| 628/628 [01:21<00:00,  7.68it/s]\n",
      "Processing Season 2012: 100%|██████████| 616/616 [00:51<00:00, 12.07it/s]\n",
      "Processing Season 2013: 100%|██████████| 1061/1061 [00:54<00:00, 19.53it/s]\n",
      "Processing Season 2014: 100%|██████████| 774/774 [00:36<00:00, 21.27it/s]\n",
      "Processing Season 2015: 100%|██████████| 1051/1051 [01:13<00:00, 14.27it/s]\n",
      "Processing Season 2016: 100%|██████████| 1391/1391 [01:26<00:00, 16.13it/s]\n",
      "Processing Season 2017: 100%|██████████| 1489/1489 [01:43<00:00, 14.34it/s]\n",
      "Processing Season 2018: 100%|██████████| 1635/1635 [01:06<00:00, 24.73it/s]\n",
      "Processing Season 2019: 100%|██████████| 1878/1878 [01:08<00:00, 27.40it/s]\n",
      "Processing Season 2020: 100%|██████████| 715/715 [00:28<00:00, 25.35it/s]\n",
      "Processing Season 2021: 100%|██████████| 2056/2056 [01:13<00:00, 28.09it/s]\n",
      "Processing Season 2022: 100%|██████████| 2342/2342 [01:23<00:00, 28.17it/s]\n",
      "Processing Season 2023: 100%|██████████| 2321/2321 [01:19<00:00, 29.16it/s]\n",
      "Processing Season 2024: 100%|██████████| 2382/2382 [01:26<00:00, 27.63it/s]\n"
     ]
    }
   ],
   "source": [
    "plays_results = []\n",
    "\n",
    "def extract_gamedata(game_content):\n",
    "\n",
    "    gamedata_json = game_content.get('gameData', {})\n",
    "\n",
    "    return {\n",
    "        'day_night': gamedata_json.get('datetime', {}).get('dayNight', None),\n",
    "        'venue_capacity': gamedata_json.get('venue', {}).get('fieldInfo', {}).get('capacity', None),\n",
    "        'venue_turf': gamedata_json.get('venue', {}).get('fieldInfo', {}).get('turfType', None),\n",
    "        'venue_roof': gamedata_json.get('venue', {}).get('fieldInfo', {}).get('roofType', None),\n",
    "        'weather_condition': gamedata_json.get('weather', {}).get('condition', None),\n",
    "        'weather_temp': gamedata_json.get('weather', {}).get('temp', None),\n",
    "        'attendance': gamedata_json.get('gameInfo', {}).get('attendance', None)\n",
    "    }\n",
    "\n",
    "def process_game(game, season, batter_list, pitcher_list):\n",
    "    single_game_feed_url = f'https://statsapi.mlb.com/api/v1.1/game/{game}/feed/live'\n",
    "    game_content = json.loads(requests.get(single_game_feed_url).content)\n",
    "    gamedata_dict = extract_gamedata(game_content)\n",
    "    livedata_json = game_content.get('liveData', {})\n",
    "    all_plays = livedata_json.get('plays', {}).get('allPlays', [])\n",
    "\n",
    "    game_data_list = []\n",
    "\n",
    "    for play in all_plays:\n",
    "        batter_id = play.get('matchup', {}).get('batter', {}).get('id', None)\n",
    "        pitcher_id = play.get('matchup', {}).get('pitcher', {}).get('id', None)\n",
    "        if any([batter_id in batter_list, pitcher_id in pitcher_list]):\n",
    "            play_result = play.get('result', {})\n",
    "            play_about = play.get('about', {})\n",
    "            play_matchup = play.get('matchup', {})\n",
    "            play_events = play.get('playEvents', {})\n",
    "            play_data = pd.DataFrame({\n",
    "                'season': [season],\n",
    "                'game_pk': [game],\n",
    "                **gamedata_dict,\n",
    "                'batter_id': [batter_id],\n",
    "                'pitcher_id': [pitcher_id],\n",
    "                'event_type': [play_result.get('eventType', None)],\n",
    "                'start_time': [play_about.get('startTime', None)],\n",
    "                'end_time': [play_about.get('endTime', None)],\n",
    "                'vs_RHB': [play_matchup.get('batSide', {}).get('code', None) == 'R'],\n",
    "                'vs_LHB': [play_matchup.get('batSide', {}).get('code', None) == 'L'],\n",
    "                'vs_SHB': [play_matchup.get('batSide', {}).get('code', None) == 'S'],\n",
    "                'vs_RHP': [play_matchup.get('pitchHand', {}).get('code', None) == 'R'],\n",
    "                'vs_LHP': [play_matchup.get('pitchHand', {}).get('code', None) == 'L'],\n",
    "                'play_events': [play_events]\n",
    "            })\n",
    "            game_data_list.append(play_data)\n",
    "\n",
    "    return game_data_list\n",
    "\n",
    "def fetch_and_process_games(season):\n",
    "    games_list = top_players_games[top_players_games['season'] == season]['gamePk'].tolist()\n",
    "    batter_list = batting_season_team[batting_season_team['season'] == season]['player_id'].tolist()\n",
    "    pitcher_list = pitching_season_team[pitching_season_team['season'] == season]['player_id'].tolist()\n",
    "\n",
    "    all_game_data = []\n",
    "\n",
    "    with ThreadPoolExecutor() as executor:\n",
    "        futures = []\n",
    "        for game in games_list:\n",
    "            futures.append(executor.submit(process_game, game, season, batter_list, pitcher_list))\n",
    "\n",
    "        for future in tqdm(as_completed(futures), total=len(futures), desc=f\"Processing Season {season}\"):\n",
    "            game_data = future.result()\n",
    "            all_game_data.extend(game_data)\n",
    "\n",
    "    return all_game_data\n",
    "\n",
    "# There is only full play data from 1950 up to recent years\n",
    "for season in games_seasons:\n",
    "    season_data = fetch_and_process_games(season)\n",
    "    plays_results.extend(season_data)"
   ]
  },
  {
   "cell_type": "code",
   "execution_count": 69,
   "metadata": {},
   "outputs": [],
   "source": [
    "top_players_plays = pd.concat(plays_results, ignore_index=True)"
   ]
  },
  {
   "cell_type": "code",
   "execution_count": 10,
   "metadata": {},
   "outputs": [],
   "source": [
    "top_players_plays.to_csv('mlb_top_players_plays.csv', index=False)"
   ]
  }
 ],
 "metadata": {
  "kernelspec": {
   "display_name": ".venv",
   "language": "python",
   "name": "python3"
  },
  "language_info": {
   "codemirror_mode": {
    "name": "ipython",
    "version": 3
   },
   "file_extension": ".py",
   "mimetype": "text/x-python",
   "name": "python",
   "nbconvert_exporter": "python",
   "pygments_lexer": "ipython3",
   "version": "3.12.3"
  }
 },
 "nbformat": 4,
 "nbformat_minor": 2
}

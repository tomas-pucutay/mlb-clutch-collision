{
 "cells": [
  {
   "cell_type": "code",
   "execution_count": 2,
   "metadata": {},
   "outputs": [],
   "source": [
    "import pandas as pd\n",
    "\n",
    "df = pd.read_csv('batch_prediction.csv')\n",
    "df_players = pd.read_csv(\"mlb_top_players_id.csv\")"
   ]
  },
  {
   "cell_type": "code",
   "execution_count": 3,
   "metadata": {},
   "outputs": [],
   "source": [
    "df_mod = (\n",
    "    df\n",
    "    .merge(df_players.filter(['player_id','top_source']), left_on='batter_id', right_on='player_id', how='left')\n",
    "    .rename(columns={'top_source':'batter_source'})\n",
    "    .drop(['player_id'], axis=1)\n",
    "    .merge(df_players.filter(['player_id','top_source']), left_on='pitcher_id', right_on='player_id', how='left')\n",
    "    .rename(columns={'top_source':'pitcher_source'})\n",
    "    .drop(['player_id'], axis=1)\n",
    ")"
   ]
  },
  {
   "cell_type": "code",
   "execution_count": 28,
   "metadata": {},
   "outputs": [],
   "source": [
    "df_pitcher= (\n",
    "    df_mod\n",
    "    [df_mod['pitcher_source']=='phist']\n",
    "    .filter(['pitcher_fullName', 'pitcher_id', 'pitcher_season'])\n",
    "    .drop_duplicates()\n",
    "    .reset_index()\n",
    "    .to_dict(orient='records')\n",
    ")"
   ]
  },
  {
   "cell_type": "code",
   "execution_count": 30,
   "metadata": {},
   "outputs": [
    {
     "name": "stdout",
     "output_type": "stream",
     "text": [
      "const players = {\n",
      "  'Emmanuel Clase': {\n",
      "    'id': '661403',\n",
      "    'seasons': [\n",
      "      '2024'\n",
      "    ]\n",
      "  },\n",
      "  'Ed Walsh': {\n",
      "    'id': '123877',\n",
      "    'seasons': [\n",
      "      '1930'\n",
      "    ]\n",
      "  },\n",
      "  'Devin Williams': {\n",
      "    'id': '642207',\n",
      "    'seasons': [\n",
      "      '2020',\n",
      "      '2024'\n",
      "    ]\n",
      "  },\n",
      "  'Addie Joss': {\n",
      "    'id': '116772',\n",
      "    'seasons': [\n",
      "      '1910'\n",
      "    ]\n",
      "  },\n",
      "  'Jack Pfiester': {\n",
      "    'id': '120496',\n",
      "    'seasons': [\n",
      "      '1910'\n",
      "    ]\n",
      "  },\n",
      "  'Joe Wood': {\n",
      "    'id': '124535',\n",
      "    'seasons': [\n",
      "      '1910',\n",
      "      '1920'\n",
      "    ]\n",
      "  },\n",
      "  'Mordecai Brown': {\n",
      "    'id': '111577',\n",
      "    'seasons': [\n",
      "      '1910'\n",
      "    ]\n",
      "  },\n",
      "  'Christy Mathewson': {\n",
      "    'id': '118422',\n",
      "    'seasons': [\n",
      "      '1900',\n",
      "      '1910'\n",
      "    ]\n",
      "  },\n",
      "  'Rube Waddell': {\n",
      "    'id': '123767',\n",
      "    'seasons': [\n",
      "      '1900',\n",
      "      '1910'\n",
      "    ]\n",
      "  },\n",
      "  'Walter Johnson': {\n",
      "    'id': '116635',\n",
      "    'seasons': [\n",
      "      '1910',\n",
      "      '1920'\n",
      "    ]\n",
      "  }\n",
      "};\n"
     ]
    }
   ],
   "source": [
    "from collections import defaultdict\n",
    "import json\n",
    "\n",
    "pitchers_dict = defaultdict(lambda: {\"id\": \"\", \"seasons\": []})\n",
    "\n",
    "for pitcher in df_pitcher:\n",
    "    name = pitcher[\"pitcher_fullName\"]\n",
    "    player_id = str(pitcher[\"pitcher_id\"])\n",
    "    season = str(pitcher[\"pitcher_season\"])\n",
    "    \n",
    "    pitchers_dict[name][\"id\"] = player_id\n",
    "    pitchers_dict[name][\"seasons\"].append(season)\n",
    "\n",
    "# Convertir a texto JavaScript\n",
    "js_output = json.dumps(pitchers_dict, indent=2).replace('\"', \"'\")\n",
    "js_output = f\"const players = {js_output};\"\n",
    "\n",
    "print(js_output)"
   ]
  }
 ],
 "metadata": {
  "kernelspec": {
   "display_name": ".venv",
   "language": "python",
   "name": "python3"
  },
  "language_info": {
   "codemirror_mode": {
    "name": "ipython",
    "version": 3
   },
   "file_extension": ".py",
   "mimetype": "text/x-python",
   "name": "python",
   "nbconvert_exporter": "python",
   "pygments_lexer": "ipython3",
   "version": "3.10.12"
  }
 },
 "nbformat": 4,
 "nbformat_minor": 2
}

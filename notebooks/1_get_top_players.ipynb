{
 "cells": [
  {
   "cell_type": "markdown",
   "metadata": {},
   "source": [
    "### 1st Process: Get TOP 50 batters/pitcher"
   ]
  },
  {
   "cell_type": "markdown",
   "metadata": {},
   "source": [
    "Search scopes:\n",
    "- All time\n",
    "- Season 2024"
   ]
  },
  {
   "cell_type": "markdown",
   "metadata": {},
   "source": [
    "### Imports"
   ]
  },
  {
   "cell_type": "code",
   "execution_count": 2,
   "metadata": {},
   "outputs": [],
   "source": [
    "import pandas as pd\n",
    "import requests\n",
    "from bs4 import BeautifulSoup"
   ]
  },
  {
   "cell_type": "code",
   "execution_count": 3,
   "metadata": {},
   "outputs": [],
   "source": [
    "pd.set_option('display.max_colwidth', 200)\n",
    "pd.set_option('display.max_columns', None)"
   ]
  },
  {
   "cell_type": "markdown",
   "metadata": {},
   "source": [
    "### Utils"
   ]
  },
  {
   "cell_type": "code",
   "execution_count": 4,
   "metadata": {},
   "outputs": [],
   "source": [
    "def get_player_data(url, tag):\n",
    "\n",
    "    headers = {\n",
    "       'User-Agent': 'Mozilla/5.0 (Macintosh; Intel Mac OS X 10_10_1) AppleWebKit/537.36 '\n",
    "                     '(KHTML, like Gecko) Chrome/39.0.2171.95 Safari/537.36'\n",
    "    }\n",
    "\n",
    "    try:\n",
    "        response = requests.get(url, headers=headers, timeout=10)\n",
    "        response.raise_for_status()\n",
    "    except requests.RequestException as e:\n",
    "        print(f\"Error al hacer la solicitud: {e}\")\n",
    "        return []\n",
    "\n",
    "    try:\n",
    "        soup = BeautifulSoup(response.text, \"html.parser\")\n",
    "        table = soup.find(\"table\")\n",
    "        if not table:\n",
    "            print(\"Table not found.\")\n",
    "            return []\n",
    "\n",
    "        rows = table.find_all(\"tr\")\n",
    "        row_detail = [row.find_all(\"td\") for row in rows]\n",
    "\n",
    "        player_list = [\n",
    "            a_tag.text.strip()\n",
    "            for row in row_detail\n",
    "            if len(row) > 1 and (a_tag := row[1].find(\"a\")) and a_tag.text.strip()\n",
    "        ]\n",
    "\n",
    "        player_df = pd.DataFrame({\n",
    "            'top_idx': range(1, len(player_list) + 1),\n",
    "            'top_source': tag,\n",
    "            'player': player_list,\n",
    "        })\n",
    "\n",
    "        return player_df\n",
    "\n",
    "    except Exception as e:\n",
    "        print(f\"Error processing page: {e}\")\n",
    "        return pd.DataFrame()"
   ]
  },
  {
   "cell_type": "markdown",
   "metadata": {},
   "source": [
    "### Get Top Players 2024 and Historic"
   ]
  },
  {
   "cell_type": "code",
   "execution_count": 33,
   "metadata": {},
   "outputs": [],
   "source": [
    "# Rankings\n",
    "\n",
    "batting_leaders_history = 'https://www.espn.com/mlb/history/leaders/_/sort/avg'\n",
    "batting_leaders_2024 = 'https://www.espn.com/mlb/history/leaders/_/breakdown/season/year/2024'\n",
    "pitching_leaders_history = 'https://www.espn.com/mlb/history/leaders/_/type/pitching'\n",
    "pitching_leaders_2024 = 'https://www.espn.com/mlb/history/leaders/_/type/pitching/breakdown/season/year/2024/sort/ERA'\n",
    "\n",
    "batting_players_2024 = get_player_data(batting_leaders_2024, 'b2024')\n",
    "batting_players_hist = get_player_data(batting_leaders_history, 'bhist')\n",
    "pitching_players_2024 = get_player_data(pitching_leaders_2024, 'p2024')\n",
    "pitching_players_hist = get_player_data(pitching_leaders_history, 'phist')"
   ]
  },
  {
   "cell_type": "code",
   "execution_count": 37,
   "metadata": {},
   "outputs": [],
   "source": [
    "top_players = pd.concat([\n",
    "    batting_players_2024,\n",
    "    batting_players_hist,\n",
    "    pitching_players_2024,\n",
    "    pitching_players_hist\n",
    "    ], ignore_index=True)"
   ]
  },
  {
   "cell_type": "code",
   "execution_count": 38,
   "metadata": {},
   "outputs": [
    {
     "data": {
      "text/plain": [
       "['top_players.pkl']"
      ]
     },
     "execution_count": 38,
     "metadata": {},
     "output_type": "execute_result"
    }
   ],
   "source": [
    "top_players.to_csv('mlb_top_players.csv', index=False)"
   ]
  }
 ],
 "metadata": {
  "kernelspec": {
   "display_name": ".venv",
   "language": "python",
   "name": "python3"
  },
  "language_info": {
   "codemirror_mode": {
    "name": "ipython",
    "version": 3
   },
   "file_extension": ".py",
   "mimetype": "text/x-python",
   "name": "python",
   "nbconvert_exporter": "python",
   "pygments_lexer": "ipython3",
   "version": "3.12.3"
  }
 },
 "nbformat": 4,
 "nbformat_minor": 2
}

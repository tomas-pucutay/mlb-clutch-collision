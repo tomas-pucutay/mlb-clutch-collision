{
  "nbformat": 4,
  "nbformat_minor": 0,
  "metadata": {
    "colab": {
      "provenance": [],
      "gpuType": "T4"
    },
    "kernelspec": {
      "name": "python3",
      "display_name": "Python 3"
    },
    "language_info": {
      "name": "python"
    },
    "accelerator": "GPU"
  },
  "cells": [
    {
      "cell_type": "markdown",
      "source": [
        "### Imports"
      ],
      "metadata": {
        "id": "zEoZm1rp6Vzb"
      }
    },
    {
      "cell_type": "code",
      "execution_count": 83,
      "metadata": {
        "id": "bn5wemKu6K2C"
      },
      "outputs": [],
      "source": [
        "import numpy as np\n",
        "import joblib\n",
        "import pandas as pd\n",
        "from sklearn.model_selection import StratifiedKFold\n",
        "from sklearn.ensemble import RandomForestClassifier\n",
        "from lightgbm import LGBMClassifier\n",
        "from catboost import CatBoostClassifier\n",
        "from sklearn.metrics import accuracy_score\n",
        "from tqdm import tqdm"
      ]
    },
    {
      "cell_type": "markdown",
      "source": [
        "### Main"
      ],
      "metadata": {
        "id": "fj4l2S0PYvS0"
      }
    },
    {
      "cell_type": "code",
      "source": [
        "df = pd.read_csv(\"/all_plays_merged_data.csv\")\n",
        "X = df.drop(columns=[\"event_type\"])\n",
        "y = df[\"event_type\"]"
      ],
      "metadata": {
        "id": "ODVnC5569eYc"
      },
      "execution_count": 71,
      "outputs": []
    },
    {
      "cell_type": "code",
      "source": [
        "event_counts = df[\"event_type\"].value_counts()\n",
        "eventos_validos = event_counts[event_counts >= 2000].index\n",
        "df = df[df[\"event_type\"].isin(eventos_validos)]"
      ],
      "metadata": {
        "id": "3beVvtwWT1j2"
      },
      "execution_count": 72,
      "outputs": []
    },
    {
      "cell_type": "code",
      "source": [
        "kf = StratifiedKFold(n_splits=5, shuffle=True, random_state=42)"
      ],
      "metadata": {
        "id": "qo_0aZpu-OYX"
      },
      "execution_count": 73,
      "outputs": []
    },
    {
      "cell_type": "code",
      "source": [
        "best_cat_params = {\n",
        "    'objective': 'MultiClass',\n",
        "    'early_stopping_rounds': 50,\n",
        "    'reg_lambda': 2.32847283242342,\n",
        "    'learning_rate': 0.05614850749229461,\n",
        "    'min_data_in_leaf': 12,\n",
        "    'iterations': 700,\n",
        "    'depth': 7,\n",
        "    'boosting_type': 'Plain',\n",
        "    'bootstrap_type': 'Bayesian',  # Puedes probar 'Bernoulli' o 'MVS'\n",
        "    'bagging_temperature': 0.0381988978242882,\n",
        "    'eval_metric': 'MultiClass'\n",
        "}\n",
        "catboost_model = CatBoostClassifier(random_seed=42, random_strength=0, task_type=\"GPU\", verbose=0, **best_cat_params)"
      ],
      "metadata": {
        "id": "4Nih6tEA-QoR"
      },
      "execution_count": 74,
      "outputs": []
    },
    {
      "cell_type": "code",
      "source": [
        "def cross_val_train(model, X, y, kf, model_name):\n",
        "    scores = []\n",
        "    for fold, (train_idx, val_idx) in enumerate(tqdm(kf.split(X, y), total=kf.get_n_splits(), desc=f\"{model_name} Training\")):\n",
        "        X_train, X_val = X.iloc[train_idx], X.iloc[val_idx]\n",
        "        y_train, y_val = y.iloc[train_idx], y.iloc[val_idx]\n",
        "\n",
        "        model.fit(X_train, y_train)\n",
        "        preds = model.predict(X_val)\n",
        "        acc = accuracy_score(y_val, preds)\n",
        "        scores.append(acc)\n",
        "        print(f\"Fold {fold+1}: Accuracy = {acc:.4f}\")\n",
        "\n",
        "    print(f\"{model_name} - Accuracy Avg: {np.mean(scores):.4f}\")\n",
        "    return scores"
      ],
      "metadata": {
        "id": "Xa95rCxN-TTA"
      },
      "execution_count": 75,
      "outputs": []
    },
    {
      "cell_type": "markdown",
      "source": [
        "Poor prediction, can be improved with different data but is enough to test a concept"
      ],
      "metadata": {
        "id": "ZjtvDJUoWZdk"
      }
    },
    {
      "cell_type": "code",
      "source": [
        "catboost_scores = cross_val_train(catboost_model, X, y, kf, \"CatBoost\")"
      ],
      "metadata": {
        "id": "sMMQZNsG-ZBO",
        "outputId": "ac5b3c8c-522c-429e-f56b-b10759d68637",
        "colab": {
          "base_uri": "https://localhost:8080/"
        }
      },
      "execution_count": 76,
      "outputs": [
        {
          "output_type": "stream",
          "name": "stderr",
          "text": [
            "\rCatBoost Training:   0%|          | 0/5 [00:00<?, ?it/s]/usr/local/lib/python3.11/dist-packages/sklearn/model_selection/_split.py:805: UserWarning: The least populated class in y has only 1 members, which is less than n_splits=5.\n",
            "  warnings.warn(\n",
            "CatBoost Training:  20%|██        | 1/5 [01:01<04:07, 61.96s/it]"
          ]
        },
        {
          "output_type": "stream",
          "name": "stdout",
          "text": [
            "Fold 1: Accuracy = 0.4193\n"
          ]
        },
        {
          "output_type": "stream",
          "name": "stderr",
          "text": [
            "\rCatBoost Training:  40%|████      | 2/5 [02:02<03:03, 61.07s/it]"
          ]
        },
        {
          "output_type": "stream",
          "name": "stdout",
          "text": [
            "Fold 2: Accuracy = 0.4184\n"
          ]
        },
        {
          "output_type": "stream",
          "name": "stderr",
          "text": [
            "\rCatBoost Training:  60%|██████    | 3/5 [03:08<02:07, 63.57s/it]"
          ]
        },
        {
          "output_type": "stream",
          "name": "stdout",
          "text": [
            "Fold 3: Accuracy = 0.4167\n"
          ]
        },
        {
          "output_type": "stream",
          "name": "stderr",
          "text": [
            "\rCatBoost Training:  80%|████████  | 4/5 [04:09<01:02, 62.53s/it]"
          ]
        },
        {
          "output_type": "stream",
          "name": "stdout",
          "text": [
            "Fold 4: Accuracy = 0.4195\n"
          ]
        },
        {
          "output_type": "stream",
          "name": "stderr",
          "text": [
            "CatBoost Training: 100%|██████████| 5/5 [05:08<00:00, 61.71s/it]"
          ]
        },
        {
          "output_type": "stream",
          "name": "stdout",
          "text": [
            "Fold 5: Accuracy = 0.4175\n",
            "CatBoost - Accuracy Avg: 0.4183\n"
          ]
        },
        {
          "output_type": "stream",
          "name": "stderr",
          "text": [
            "\n"
          ]
        }
      ]
    },
    {
      "cell_type": "markdown",
      "source": [
        "### Final model"
      ],
      "metadata": {
        "id": "QjP8S4xmYYFd"
      }
    },
    {
      "cell_type": "code",
      "source": [
        "catboost_model = CatBoostClassifier(random_seed=42, random_strength=0, task_type=\"GPU\", verbose=0, **best_cat_params)\n",
        "catboost_model.fit(X, y)"
      ],
      "metadata": {
        "id": "S3VneaBsXiop",
        "outputId": "5cf0353d-2e5e-4e25-f1ce-1436c76a33fb",
        "colab": {
          "base_uri": "https://localhost:8080/"
        }
      },
      "execution_count": 80,
      "outputs": [
        {
          "output_type": "execute_result",
          "data": {
            "text/plain": [
              "<catboost.core.CatBoostClassifier at 0x78a344f51190>"
            ]
          },
          "metadata": {},
          "execution_count": 80
        }
      ]
    },
    {
      "cell_type": "code",
      "source": [
        "joblib.dump(catboost_model, \"catboost_model.pkl\")"
      ],
      "metadata": {
        "id": "rPKKjhtvY1g6",
        "outputId": "254430cd-ba8f-49f2-a541-a7299ad17dd8",
        "colab": {
          "base_uri": "https://localhost:8080/"
        }
      },
      "execution_count": 84,
      "outputs": [
        {
          "output_type": "execute_result",
          "data": {
            "text/plain": [
              "['catboost_model.pkl']"
            ]
          },
          "metadata": {},
          "execution_count": 84
        }
      ]
    }
  ]
}
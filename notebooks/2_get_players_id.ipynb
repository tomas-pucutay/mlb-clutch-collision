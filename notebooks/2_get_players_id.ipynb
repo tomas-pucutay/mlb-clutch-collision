{
 "cells": [
  {
   "cell_type": "markdown",
   "metadata": {},
   "source": [
    "### 2nd Process: Complete ID"
   ]
  },
  {
   "cell_type": "markdown",
   "metadata": {},
   "source": [
    "- Fetch all players from seasons 1850 to 2025.\n",
    "- Match top players data to identify IDs.\n",
    "- Limit top players from 50 to the best 20 of each list.\n",
    "- 20 batters all time, 20 batters 2024, 20 pitchers all time, 20 pitchers 2024"
   ]
  },
  {
   "cell_type": "markdown",
   "metadata": {},
   "source": [
    "### Imports"
   ]
  },
  {
   "cell_type": "code",
   "execution_count": 2,
   "metadata": {},
   "outputs": [],
   "source": [
    "import json\n",
    "import requests\n",
    "import pandas as pd\n",
    "from unidecode import unidecode\n",
    "from concurrent.futures import ThreadPoolExecutor"
   ]
  },
  {
   "cell_type": "code",
   "execution_count": 2,
   "metadata": {},
   "outputs": [],
   "source": [
    "pd.set_option('display.max_colwidth', 200)\n",
    "pd.set_option('display.max_columns', None)"
   ]
  },
  {
   "cell_type": "markdown",
   "metadata": {},
   "source": [
    "### Utils"
   ]
  },
  {
   "cell_type": "code",
   "execution_count": 3,
   "metadata": {},
   "outputs": [],
   "source": [
    "# Function to Process Results from Various MLB Stats API Endpoints\n",
    "# Provided by the Google Colab from MLB Hackaton\n",
    "\n",
    "def process_endpoint_url(endpoint_url, pop_key=None):\n",
    "  \"\"\"\n",
    "  Fetches data from a URL, parses JSON, and optionally pops a key.\n",
    "\n",
    "  Args:\n",
    "    endpoint_url: The URL to fetch data from.\n",
    "    pop_key: The key to pop from the JSON data (optional, defaults to None).\n",
    "\n",
    "  Returns:\n",
    "    A pandas DataFrame containing the processed data\n",
    "  \"\"\"\n",
    "  json_result = requests.get(endpoint_url).content\n",
    "\n",
    "  data = json.loads(json_result)\n",
    "\n",
    "   # if pop_key is provided, pop key and normalize nested fields\n",
    "  if pop_key:\n",
    "    df_result = pd.json_normalize(data.pop(pop_key), sep = '_')\n",
    "  # if pop_key is not provided, normalize entire json\n",
    "  else:\n",
    "    df_result = pd.json_normalize(data)\n",
    "\n",
    "  return df_result"
   ]
  },
  {
   "cell_type": "markdown",
   "metadata": {},
   "source": [
    "### Limit to Top 20 players with ID"
   ]
  },
  {
   "cell_type": "code",
   "execution_count": 3,
   "metadata": {},
   "outputs": [],
   "source": [
    "top_players = pd.read_csv('mlb_top_players.csv')"
   ]
  },
  {
   "cell_type": "code",
   "execution_count": 5,
   "metadata": {},
   "outputs": [],
   "source": [
    "seasons = range(1850, 2025)\n",
    "\n",
    "def fetch_players_from_seasons(season: str):\n",
    "\n",
    "    seasons_url = f'https://statsapi.mlb.com/api/v1/sports/1/players?season={season}'\n",
    "    player_seasons = process_endpoint_url(seasons_url, \"people\")\n",
    "\n",
    "    if not player_seasons.empty:\n",
    "        return player_seasons\n",
    "\n",
    "    return pd.DataFrame()\n",
    "\n",
    "with ThreadPoolExecutor() as executor:\n",
    "    season_results = list(executor.map(fetch_players_from_seasons, [season for season in seasons]))\n",
    "\n",
    "all_players = (\n",
    "    pd.concat(season_results, ignore_index=True)\n",
    "    .drop_duplicates(subset=['id'])\n",
    "    .assign(fullName_std = lambda x: x['fullName'].apply(unidecode))\n",
    "    .rename(columns={'id': 'player_id'})\n",
    "    .filter(items=['player_id', 'fullName', 'fullName_std'])\n",
    ")"
   ]
  },
  {
   "cell_type": "code",
   "execution_count": 6,
   "metadata": {},
   "outputs": [],
   "source": [
    "top_players = (\n",
    "    top_players\n",
    "    .merge(all_players, left_on='player', right_on='fullName_std',how='left')\n",
    "    .pipe(lambda df: df.loc[df.groupby(['top_source', 'player'])['player_id'].idxmin().dropna().astype(int)])\n",
    "    .sort_values(by=['top_idx'])\n",
    "    .groupby('top_source')\n",
    "    .head(20)\n",
    "    .astype({'player_id': 'Int32'})\n",
    "    .filter(items=['player_id', 'top_idx', 'top_source', 'fullName'])\n",
    ")"
   ]
  },
  {
   "cell_type": "code",
   "execution_count": 10,
   "metadata": {},
   "outputs": [],
   "source": [
    "top_players.to_csv('mlb_top_players_id.csv', index=False)"
   ]
  }
 ],
 "metadata": {
  "kernelspec": {
   "display_name": ".venv",
   "language": "python",
   "name": "python3"
  },
  "language_info": {
   "codemirror_mode": {
    "name": "ipython",
    "version": 3
   },
   "file_extension": ".py",
   "mimetype": "text/x-python",
   "name": "python",
   "nbconvert_exporter": "python",
   "pygments_lexer": "ipython3",
   "version": "3.12.3"
  }
 },
 "nbformat": 4,
 "nbformat_minor": 2
}
